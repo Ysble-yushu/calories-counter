{
 "cells": [
  {
   "cell_type": "code",
   "execution_count": 3,
   "metadata": {},
   "outputs": [
    {
     "ename": "ImportError",
     "evalue": "cannot import name 'combos' from 'module.data' (c:\\Users\\Quinn\\Documents\\calories-counter\\module\\data.py)",
     "output_type": "error",
     "traceback": [
      "\u001b[1;31m---------------------------------------------------------------------------\u001b[0m",
      "\u001b[1;31mImportError\u001b[0m                               Traceback (most recent call last)",
      "\u001b[1;32mc:\\Users\\Quinn\\Documents\\calories-counter\\main.ipynb Cell 2\u001b[0m line \u001b[0;36m1\n\u001b[1;32m----> <a href='vscode-notebook-cell:/c%3A/Users/Quinn/Documents/calories-counter/main.ipynb#W2sZmlsZQ%3D%3D?line=0'>1</a>\u001b[0m \u001b[39mfrom\u001b[39;00m \u001b[39mmodule\u001b[39;00m\u001b[39m.\u001b[39;00m\u001b[39mdata\u001b[39;00m \u001b[39mimport\u001b[39;00m combos, meals\n\u001b[0;32m      <a href='vscode-notebook-cell:/c%3A/Users/Quinn/Documents/calories-counter/main.ipynb#W2sZmlsZQ%3D%3D?line=2'>3</a>\u001b[0m \u001b[39mprint\u001b[39m(combos)\n",
      "\u001b[1;31mImportError\u001b[0m: cannot import name 'combos' from 'module.data' (c:\\Users\\Quinn\\Documents\\calories-counter\\module\\data.py)"
     ]
    }
   ],
   "source": [
    "from module.data import combos, meals\n",
    "\n",
    "print(combos)"
   ]
  },
  {
   "cell_type": "code",
   "execution_count": 4,
   "metadata": {},
   "outputs": [
    {
     "ename": "NameError",
     "evalue": "name 'combos' is not defined",
     "output_type": "error",
     "traceback": [
      "\u001b[1;31m---------------------------------------------------------------------------\u001b[0m",
      "\u001b[1;31mNameError\u001b[0m                                 Traceback (most recent call last)",
      "\u001b[1;32mc:\\Users\\Quinn\\Documents\\calories-counter\\main.ipynb Cell 3\u001b[0m line \u001b[0;36m3\n\u001b[0;32m      <a href='vscode-notebook-cell:/c%3A/Users/Quinn/Documents/calories-counter/main.ipynb#W3sZmlsZQ%3D%3D?line=0'>1</a>\u001b[0m combos \u001b[39m=\u001b[39m {\n\u001b[0;32m      <a href='vscode-notebook-cell:/c%3A/Users/Quinn/Documents/calories-counter/main.ipynb#W3sZmlsZQ%3D%3D?line=1'>2</a>\u001b[0m     combo[\u001b[39m\"\u001b[39m\u001b[39mid\u001b[39m\u001b[39m\"\u001b[39m]:combos\n\u001b[1;32m----> <a href='vscode-notebook-cell:/c%3A/Users/Quinn/Documents/calories-counter/main.ipynb#W3sZmlsZQ%3D%3D?line=2'>3</a>\u001b[0m     \u001b[39mfor\u001b[39;00m combo \u001b[39min\u001b[39;00m combos\n\u001b[0;32m      <a href='vscode-notebook-cell:/c%3A/Users/Quinn/Documents/calories-counter/main.ipynb#W3sZmlsZQ%3D%3D?line=3'>4</a>\u001b[0m }\n\u001b[0;32m      <a href='vscode-notebook-cell:/c%3A/Users/Quinn/Documents/calories-counter/main.ipynb#W3sZmlsZQ%3D%3D?line=4'>5</a>\u001b[0m \u001b[39mprint\u001b[39m(combos)\n",
      "\u001b[1;31mNameError\u001b[0m: name 'combos' is not defined"
     ]
    }
   ],
   "source": [
    "combos = {\n",
    "    combo[\"id\"]:combos\n",
    "    for combo in combos\n",
    "}\n",
    "print(combos)"
   ]
  }
 ],
 "metadata": {
  "kernelspec": {
   "display_name": ".venv",
   "language": "python",
   "name": "python3"
  },
  "language_info": {
   "codemirror_mode": {
    "name": "ipython",
    "version": 3
   },
   "file_extension": ".py",
   "mimetype": "text/x-python",
   "name": "python",
   "nbconvert_exporter": "python",
   "pygments_lexer": "ipython3",
   "version": "3.11.4"
  },
  "orig_nbformat": 4
 },
 "nbformat": 4,
 "nbformat_minor": 2
}
